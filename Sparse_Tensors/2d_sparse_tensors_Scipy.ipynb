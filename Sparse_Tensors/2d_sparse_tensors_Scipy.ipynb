{
 "cells": [
  {
   "cell_type": "markdown",
   "id": "87f27832-90ee-40d6-a763-f3d7be305e92",
   "metadata": {},
   "source": [
    "# 2d sparse tensors with Scipy"
   ]
  },
  {
   "cell_type": "code",
   "execution_count": 1,
   "id": "5e745cb1-a340-43a1-ae53-bbdc7c81e6b9",
   "metadata": {},
   "outputs": [],
   "source": [
    "import numpy as np\n",
    "import scipy.sparse as sparse\n",
    "import matplotlib.pyplot as plt"
   ]
  },
  {
   "cell_type": "code",
   "execution_count": 4,
   "id": "4dce2eb6-d26e-43bb-8cff-a550344027b3",
   "metadata": {},
   "outputs": [],
   "source": [
    "x = np.random.random((1000, 1000))\n",
    "x[x < 0.9] = 0"
   ]
  },
  {
   "cell_type": "code",
   "execution_count": 5,
   "id": "0e0792ae-8559-48ef-ad62-ba3086cf7bf3",
   "metadata": {},
   "outputs": [
    {
     "data": {
      "text/plain": [
       "8.0"
      ]
     },
     "execution_count": 5,
     "metadata": {},
     "output_type": "execute_result"
    }
   ],
   "source": [
    "x.nbytes/10**6"
   ]
  },
  {
   "cell_type": "code",
   "execution_count": 7,
   "id": "3a76928b-9ba4-4d86-83da-752a4eabd10e",
   "metadata": {},
   "outputs": [],
   "source": [
    "s = sparse.coo_matrix(x)"
   ]
  },
  {
   "cell_type": "code",
   "execution_count": 8,
   "id": "2f1e90be-f544-4137-a371-c37d7c2a7dc9",
   "metadata": {},
   "outputs": [
    {
     "data": {
      "text/plain": [
       "scipy.sparse.coo.coo_matrix"
      ]
     },
     "execution_count": 8,
     "metadata": {},
     "output_type": "execute_result"
    }
   ],
   "source": [
    "type(s)"
   ]
  },
  {
   "cell_type": "code",
   "execution_count": 18,
   "id": "064db576-f026-4c05-8442-55b9f9231ad7",
   "metadata": {},
   "outputs": [
    {
     "data": {
      "text/plain": [
       "1.597792"
      ]
     },
     "execution_count": 18,
     "metadata": {},
     "output_type": "execute_result"
    }
   ],
   "source": [
    "(s.data.nbytes + s.col.nbytes + s.row.nbytes)/10**6"
   ]
  },
  {
   "cell_type": "code",
   "execution_count": 22,
   "id": "cd8da87b-beec-4c44-a4f9-b02dc1f61323",
   "metadata": {},
   "outputs": [
    {
     "data": {
      "text/plain": [
       "8000000"
      ]
     },
     "execution_count": 22,
     "metadata": {},
     "output_type": "execute_result"
    }
   ],
   "source": [
    "s.shape[0]*s.shape[1]*s.dtype.itemsize"
   ]
  },
  {
   "cell_type": "code",
   "execution_count": 23,
   "id": "346e40fa-c1aa-4eb6-b24b-e395647470c8",
   "metadata": {},
   "outputs": [
    {
     "ename": "TypeError",
     "evalue": "'coo_matrix' object is not subscriptable",
     "output_type": "error",
     "traceback": [
      "\u001b[0;31m---------------------------------------------------------------------------\u001b[0m",
      "\u001b[0;31mTypeError\u001b[0m                                 Traceback (most recent call last)",
      "\u001b[0;32m<ipython-input-23-40e1726e51fb>\u001b[0m in \u001b[0;36m<module>\u001b[0;34m\u001b[0m\n\u001b[0;32m----> 1\u001b[0;31m \u001b[0ms\u001b[0m\u001b[0;34m[\u001b[0m\u001b[0;34m:\u001b[0m\u001b[0;34m,\u001b[0m\u001b[0;36m0\u001b[0m\u001b[0;34m]\u001b[0m\u001b[0;34m\u001b[0m\u001b[0;34m\u001b[0m\u001b[0m\n\u001b[0m",
      "\u001b[0;31mTypeError\u001b[0m: 'coo_matrix' object is not subscriptable"
     ]
    }
   ],
   "source": [
    "s[:,0]"
   ]
  },
  {
   "cell_type": "code",
   "execution_count": 25,
   "id": "0e6f633d-b949-452f-82ec-3ce308f6b38c",
   "metadata": {},
   "outputs": [
    {
     "data": {
      "text/plain": [
       "<1000x1 sparse matrix of type '<class 'numpy.float64'>'\n",
       "\twith 99 stored elements in Compressed Sparse Row format>"
      ]
     },
     "execution_count": 25,
     "metadata": {},
     "output_type": "execute_result"
    }
   ],
   "source": [
    "s.getcol(1)"
   ]
  },
  {
   "cell_type": "code",
   "execution_count": 26,
   "id": "c9d7157f-04d0-487a-8613-d41341d6c772",
   "metadata": {},
   "outputs": [
    {
     "data": {
      "text/plain": [
       "<1x1000 sparse matrix of type '<class 'numpy.float64'>'\n",
       "\twith 97 stored elements in Compressed Sparse Row format>"
      ]
     },
     "execution_count": 26,
     "metadata": {},
     "output_type": "execute_result"
    }
   ],
   "source": [
    "s.getrow(10)"
   ]
  },
  {
   "cell_type": "code",
   "execution_count": 27,
   "id": "8a92a1c6-285b-47a7-add1-f655888911e2",
   "metadata": {},
   "outputs": [
    {
     "ename": "TypeError",
     "evalue": "'coo_matrix' object is not subscriptable",
     "output_type": "error",
     "traceback": [
      "\u001b[0;31m---------------------------------------------------------------------------\u001b[0m",
      "\u001b[0;31mTypeError\u001b[0m                                 Traceback (most recent call last)",
      "\u001b[0;32m<ipython-input-27-39514d47580f>\u001b[0m in \u001b[0;36m<module>\u001b[0;34m\u001b[0m\n\u001b[0;32m----> 1\u001b[0;31m \u001b[0ms\u001b[0m\u001b[0;34m[\u001b[0m\u001b[0;36m0\u001b[0m\u001b[0;34m,\u001b[0m\u001b[0;36m3\u001b[0m\u001b[0;34m]\u001b[0m\u001b[0;34m\u001b[0m\u001b[0;34m\u001b[0m\u001b[0m\n\u001b[0m",
      "\u001b[0;31mTypeError\u001b[0m: 'coo_matrix' object is not subscriptable"
     ]
    }
   ],
   "source": [
    "s[0,3]"
   ]
  },
  {
   "cell_type": "code",
   "execution_count": 28,
   "id": "0185449b-e2cd-4f24-be6b-12323ee3f35c",
   "metadata": {},
   "outputs": [
    {
     "ename": "SyntaxError",
     "evalue": "invalid syntax (<ipython-input-28-cd95cbfb3cde>, line 1)",
     "output_type": "error",
     "traceback": [
      "\u001b[0;36m  File \u001b[0;32m\"<ipython-input-28-cd95cbfb3cde>\"\u001b[0;36m, line \u001b[0;32m1\u001b[0m\n\u001b[0;31m    s.getrow(10:15)\u001b[0m\n\u001b[0m               ^\u001b[0m\n\u001b[0;31mSyntaxError\u001b[0m\u001b[0;31m:\u001b[0m invalid syntax\n"
     ]
    }
   ],
   "source": [
    "s.getrow(10:15)"
   ]
  },
  {
   "cell_type": "code",
   "execution_count": 29,
   "id": "7396fbb1-fa54-4ad7-a5d2-d6fc584259c7",
   "metadata": {},
   "outputs": [],
   "source": [
    "ss = s.tocsr()"
   ]
  },
  {
   "cell_type": "code",
   "execution_count": 30,
   "id": "e2d57e5e-2d1f-478a-8fd8-340ea283bfde",
   "metadata": {},
   "outputs": [
    {
     "data": {
      "text/plain": [
       "<1x5 sparse matrix of type '<class 'numpy.float64'>'\n",
       "\twith 1 stored elements in Compressed Sparse Row format>"
      ]
     },
     "execution_count": 30,
     "metadata": {},
     "output_type": "execute_result"
    }
   ],
   "source": [
    "ss[3,10:15]"
   ]
  },
  {
   "cell_type": "code",
   "execution_count": 32,
   "id": "d2a5c132-e10a-4178-ba33-5b4a93512d84",
   "metadata": {},
   "outputs": [
    {
     "data": {
      "text/plain": [
       "0.0"
      ]
     },
     "execution_count": 32,
     "metadata": {},
     "output_type": "execute_result"
    }
   ],
   "source": [
    "ss[3,11]"
   ]
  },
  {
   "cell_type": "code",
   "execution_count": null,
   "id": "274a4513-cce2-425c-b0ab-5f77191a7b7c",
   "metadata": {},
   "outputs": [],
   "source": []
  }
 ],
 "metadata": {
  "kernelspec": {
   "display_name": "Python 3",
   "language": "python",
   "name": "python3"
  },
  "language_info": {
   "codemirror_mode": {
    "name": "ipython",
    "version": 3
   },
   "file_extension": ".py",
   "mimetype": "text/x-python",
   "name": "python",
   "nbconvert_exporter": "python",
   "pygments_lexer": "ipython3",
   "version": "3.7.10"
  }
 },
 "nbformat": 4,
 "nbformat_minor": 5
}
