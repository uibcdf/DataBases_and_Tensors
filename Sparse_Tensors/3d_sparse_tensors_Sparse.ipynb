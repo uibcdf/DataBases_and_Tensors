{
 "cells": [
  {
   "cell_type": "code",
   "execution_count": 1,
   "id": "54cdc26d-f5de-4932-9e11-51092433856d",
   "metadata": {},
   "outputs": [],
   "source": [
    "import numpy as np\n",
    "import matplotlib.pyplot as plt\n",
    "import sparse"
   ]
  },
  {
   "cell_type": "markdown",
   "id": "6933fa76-8b67-4a83-bf78-e6881d312ba8",
   "metadata": {},
   "source": [
    "# Nd sparse tensors with Sparse"
   ]
  },
  {
   "cell_type": "code",
   "execution_count": 2,
   "id": "867a73c0-c63d-464f-9ff5-c94502cf6b3b",
   "metadata": {},
   "outputs": [],
   "source": [
    "x = np.random.random((400, 50, 50))"
   ]
  },
  {
   "cell_type": "code",
   "execution_count": 3,
   "id": "8b9dd0b0-0d85-490c-b5b7-ab1112bd0a0d",
   "metadata": {},
   "outputs": [],
   "source": [
    "x[x < 0.9] = 0"
   ]
  },
  {
   "cell_type": "code",
   "execution_count": 4,
   "id": "3b5bcced-f8a6-4aed-b2b7-12f3b8d07357",
   "metadata": {},
   "outputs": [
    {
     "data": {
      "text/plain": [
       "8.0"
      ]
     },
     "execution_count": 4,
     "metadata": {},
     "output_type": "execute_result"
    }
   ],
   "source": [
    "x.nbytes/10**6"
   ]
  },
  {
   "cell_type": "code",
   "execution_count": 5,
   "id": "b4994756-cb5e-4a3f-b3e0-2ee1968112ce",
   "metadata": {},
   "outputs": [],
   "source": [
    "s = sparse.COO(x)"
   ]
  },
  {
   "cell_type": "code",
   "execution_count": 6,
   "id": "ed02217e-99c7-4e92-9f77-63da6c0be89a",
   "metadata": {},
   "outputs": [
    {
     "data": {
      "text/plain": [
       "sparse._coo.core.COO"
      ]
     },
     "execution_count": 6,
     "metadata": {},
     "output_type": "execute_result"
    }
   ],
   "source": [
    "type(s)"
   ]
  },
  {
   "cell_type": "code",
   "execution_count": 7,
   "id": "4e245e93-9006-4652-884c-78a553e29ac7",
   "metadata": {},
   "outputs": [
    {
     "data": {
      "text/plain": [
       "3.217408"
      ]
     },
     "execution_count": 7,
     "metadata": {},
     "output_type": "execute_result"
    }
   ],
   "source": [
    "s.nbytes/10**6"
   ]
  },
  {
   "cell_type": "code",
   "execution_count": 8,
   "id": "0139a51d-d6b5-4d99-b44c-fbf8e9467fca",
   "metadata": {},
   "outputs": [
    {
     "data": {
      "text/html": [
       "<table><tbody><tr><th style=\"text-align: left\">Format</th><td style=\"text-align: left\">coo</td></tr><tr><th style=\"text-align: left\">Data Type</th><td style=\"text-align: left\">float64</td></tr><tr><th style=\"text-align: left\">Shape</th><td style=\"text-align: left\">(400, 50, 50)</td></tr><tr><th style=\"text-align: left\">nnz</th><td style=\"text-align: left\">100544</td></tr><tr><th style=\"text-align: left\">Density</th><td style=\"text-align: left\">0.100544</td></tr><tr><th style=\"text-align: left\">Read-only</th><td style=\"text-align: left\">True</td></tr><tr><th style=\"text-align: left\">Size</th><td style=\"text-align: left\">3.1M</td></tr><tr><th style=\"text-align: left\">Storage ratio</th><td style=\"text-align: left\">0.4</td></tr></tbody></table>"
      ],
      "text/plain": [
       "<COO: shape=(400, 50, 50), dtype=float64, nnz=100544, fill_value=0.0>"
      ]
     },
     "execution_count": 8,
     "metadata": {},
     "output_type": "execute_result"
    }
   ],
   "source": [
    "s"
   ]
  },
  {
   "cell_type": "code",
   "execution_count": 9,
   "id": "1e6a3a1a-e77e-41ef-9b9a-414e616264c9",
   "metadata": {},
   "outputs": [
    {
     "data": {
      "text/plain": [
       "0.804352"
      ]
     },
     "execution_count": 9,
     "metadata": {},
     "output_type": "execute_result"
    }
   ],
   "source": [
    "s.data.nbytes/10**6"
   ]
  },
  {
   "cell_type": "code",
   "execution_count": 10,
   "id": "0ed8d690-40f6-45d2-9abc-f9ec44aa9b1c",
   "metadata": {},
   "outputs": [
    {
     "data": {
      "text/plain": [
       "2.413056"
      ]
     },
     "execution_count": 10,
     "metadata": {},
     "output_type": "execute_result"
    }
   ],
   "source": [
    "s.coords.nbytes/10**6"
   ]
  },
  {
   "cell_type": "code",
   "execution_count": 11,
   "id": "ca4be004-25fb-4b9f-a6a4-a1d90e61bbd0",
   "metadata": {},
   "outputs": [],
   "source": [
    "del(x,s)"
   ]
  },
  {
   "cell_type": "code",
   "execution_count": 12,
   "id": "6caf1de9-d3b5-433d-9486-231556efd163",
   "metadata": {},
   "outputs": [],
   "source": [
    "densidad = np.linspace(0.0,0.5,100)\n",
    "ratios_coo = []\n",
    "ratios_dok = []\n",
    "\n",
    "for ii in densidad:\n",
    "    x = np.random.random((400, 50, 50))\n",
    "    x[x < 1.0-ii] = 0\n",
    "    s = sparse.COO(x)\n",
    "    ratio = s.nbytes/(s.dtype.itemsize*s.size)\n",
    "    ratios_coo.append(ratio)\n",
    "    s = sparse.DOK(x)\n",
    "    ratio = s.nbytes/(s.dtype.itemsize*s.size)\n",
    "    ratios_dok.append(ratio)"
   ]
  },
  {
   "cell_type": "code",
   "execution_count": 13,
   "id": "014e7e42-1f47-4a21-a954-cb8c28dc7865",
   "metadata": {},
   "outputs": [
    {
     "data": {
      "text/plain": [
       "<matplotlib.collections.LineCollection at 0x7fb675af7550>"
      ]
     },
     "execution_count": 13,
     "metadata": {},
     "output_type": "execute_result"
    },
    {
     "data": {
      "image/png": "[encoded data removed]",
      "text/plain": [
       "<Figure size 432x288 with 1 Axes>"
      ]
     },
     "metadata": {
      "needs_background": "light"
     },
     "output_type": "display_data"
    }
   ],
   "source": [
    "plt.plot(densidad,ratios_coo)\n",
    "plt.plot(densidad,ratios_dok)\n",
    "plt.hlines(1.0, 0.0, 0.5, colors='gray', linestyles='dashed')"
   ]
  },
  {
   "cell_type": "code",
   "execution_count": 31,
   "id": "4109339e-3de0-4267-a4bd-f73748e525e3",
   "metadata": {},
   "outputs": [],
   "source": [
    "x = np.random.random((400, 50, 50))\n",
    "x[x < 0.9] = 0\n",
    "s = sparse.COO(x)"
   ]
  },
  {
   "cell_type": "code",
   "execution_count": 32,
   "id": "784e81be-9962-4198-82f6-d611bda829e7",
   "metadata": {},
   "outputs": [
    {
     "data": {
      "text/html": [
       "<table><tbody><tr><th style=\"text-align: left\">Format</th><td style=\"text-align: left\">coo</td></tr><tr><th style=\"text-align: left\">Data Type</th><td style=\"text-align: left\">float64</td></tr><tr><th style=\"text-align: left\">Shape</th><td style=\"text-align: left\">(400, 50)</td></tr><tr><th style=\"text-align: left\">nnz</th><td style=\"text-align: left\">2053</td></tr><tr><th style=\"text-align: left\">Density</th><td style=\"text-align: left\">0.10265</td></tr><tr><th style=\"text-align: left\">Read-only</th><td style=\"text-align: left\">True</td></tr><tr><th style=\"text-align: left\">Size</th><td style=\"text-align: left\">48.1K</td></tr><tr><th style=\"text-align: left\">Storage ratio</th><td style=\"text-align: left\">0.3</td></tr></tbody></table>"
      ],
      "text/plain": [
       "<COO: shape=(400, 50), dtype=float64, nnz=2053, fill_value=0.0>"
      ]
     },
     "execution_count": 32,
     "metadata": {},
     "output_type": "execute_result"
    }
   ],
   "source": [
    "s[:,0,:]"
   ]
  },
  {
   "cell_type": "code",
   "execution_count": 33,
   "id": "2a4b3211-c0c6-4f3d-a232-599bbc11d8b0",
   "metadata": {},
   "outputs": [
    {
     "data": {
      "text/plain": [
       "94671.48936778189"
      ]
     },
     "execution_count": 33,
     "metadata": {},
     "output_type": "execute_result"
    }
   ],
   "source": [
    "x.sum()"
   ]
  },
  {
   "cell_type": "code",
   "execution_count": 19,
   "id": "cce01615-1ada-4f69-a8a2-1fc61220b3a9",
   "metadata": {},
   "outputs": [],
   "source": [
    "x = np.random.random((400, 50, 50))\n",
    "x[x < 0.9] = 0\n",
    "s = sparse.DOK(x)"
   ]
  },
  {
   "cell_type": "code",
   "execution_count": 21,
   "id": "c664e5f3-21c0-4eb9-b768-b33c4971faa6",
   "metadata": {},
   "outputs": [
    {
     "data": {
      "text/html": [
       "<table><tbody><tr><th style=\"text-align: left\">Format</th><td style=\"text-align: left\">dok</td></tr><tr><th style=\"text-align: left\">Data Type</th><td style=\"text-align: left\">float64</td></tr><tr><th style=\"text-align: left\">Shape</th><td style=\"text-align: left\">(50, 50)</td></tr><tr><th style=\"text-align: left\">nnz</th><td style=\"text-align: left\">253</td></tr><tr><th style=\"text-align: left\">Density</th><td style=\"text-align: left\">0.1012</td></tr><tr><th style=\"text-align: left\">Read-only</th><td style=\"text-align: left\">False</td></tr><tr><th style=\"text-align: left\">Size</th><td style=\"text-align: left\">2.0K</td></tr><tr><th style=\"text-align: left\">Storage ratio</th><td style=\"text-align: left\">0.1</td></tr></tbody></table>"
      ],
      "text/plain": [
       "<DOK: shape=(50, 50), dtype=float64, nnz=253, fill_value=0.0>"
      ]
     },
     "execution_count": 21,
     "metadata": {},
     "output_type": "execute_result"
    }
   ],
   "source": [
    "s[0,:,:]"
   ]
  },
  {
   "cell_type": "code",
   "execution_count": 26,
   "id": "9b4a0d0d-adb7-43fb-8424-93ca330afe75",
   "metadata": {},
   "outputs": [
    {
     "data": {
      "text/plain": [
       "4.696289109818416"
      ]
     },
     "execution_count": 26,
     "metadata": {},
     "output_type": "execute_result"
    }
   ],
   "source": [
    "np.sum(s[0,3,:].todense())"
   ]
  },
  {
   "cell_type": "code",
   "execution_count": 30,
   "id": "4145d0f9-352e-4367-b2ed-4c8b484295d0",
   "metadata": {},
   "outputs": [
    {
     "name": "stdout",
     "output_type": "stream",
     "text": [
      "Help on method sum in module sparse._sparse_array:\n",
      "\n",
      "sum(axis=None, keepdims=False, dtype=None, out=None) method of sparse._dok.DOK instance\n",
      "    Performs a sum operation along the given axes. Uses all axes by default.\n",
      "    \n",
      "    Parameters\n",
      "    ----------\n",
      "    axis : Union[int, Iterable[int]], optional\n",
      "        The axes along which to sum. Uses all axes by default.\n",
      "    keepdims : bool, optional\n",
      "        Whether or not to keep the dimensions of the original array.\n",
      "    dtype: numpy.dtype\n",
      "        The data type of the output array.\n",
      "    \n",
      "    Returns\n",
      "    -------\n",
      "    SparseArray\n",
      "        The reduced output sparse array.\n",
      "    \n",
      "    See Also\n",
      "    --------\n",
      "    :obj:`numpy.sum` : Equivalent numpy function.\n",
      "    scipy.sparse.coo_matrix.sum : Equivalent Scipy function.\n",
      "\n"
     ]
    }
   ],
   "source": [
    "help(s.sum)"
   ]
  },
  {
   "cell_type": "markdown",
   "id": "bda65fe2-8357-4510-93f7-4fd28ccac881",
   "metadata": {},
   "source": [
    "## Boolean"
   ]
  },
  {
   "cell_type": "code",
   "execution_count": null,
   "id": "be7575f7-37d2-4e27-bb77-e081425a1296",
   "metadata": {},
   "outputs": [],
   "source": [
    "x = np.random.choice([True, False], size=[400, 50, 50], p=[0.01, 0.99])"
   ]
  },
  {
   "cell_type": "code",
   "execution_count": null,
   "id": "4262ac74-7291-4742-b7ec-dd7d63c152d0",
   "metadata": {},
   "outputs": [],
   "source": [
    "x.nbytes/10**6"
   ]
  },
  {
   "cell_type": "code",
   "execution_count": null,
   "id": "ed1f611e-3f86-4010-abad-b5a6132b6ad5",
   "metadata": {},
   "outputs": [],
   "source": [
    "s = sparse.COO(x)"
   ]
  },
  {
   "cell_type": "code",
   "execution_count": null,
   "id": "bc05ba01-767c-4509-b5a6-77552e0c9484",
   "metadata": {},
   "outputs": [],
   "source": [
    "s.nbytes/10**6"
   ]
  },
  {
   "cell_type": "code",
   "execution_count": null,
   "id": "eb507ec5-f6ba-46a2-866b-7b2b2956bba5",
   "metadata": {},
   "outputs": [],
   "source": [
    "s"
   ]
  },
  {
   "cell_type": "code",
   "execution_count": null,
   "id": "c676d731-1ccb-470c-86b2-c6d06f3e4e79",
   "metadata": {},
   "outputs": [],
   "source": [
    "s.data.nbytes/10**6"
   ]
  },
  {
   "cell_type": "code",
   "execution_count": null,
   "id": "968be664-a262-4b2d-b619-436673c35c6b",
   "metadata": {},
   "outputs": [],
   "source": [
    "s.coords.nbytes/10**6"
   ]
  },
  {
   "cell_type": "code",
   "execution_count": null,
   "id": "a51de5f5-0eca-4723-b94e-9463463a930e",
   "metadata": {},
   "outputs": [],
   "source": [
    "densidad = np.linspace(0.0,0.5,100)\n",
    "ratios_coo = []\n",
    "ratios_dok = []\n",
    "\n",
    "for ii in densidad:\n",
    "    x = np.random.choice([True, False], size=[400, 50, 50], p=[ii, 1.0-ii])\n",
    "    s = sparse.COO(x)\n",
    "    ratio = s.nbytes/(s.dtype.itemsize*s.size)\n",
    "    ratios_coo.append(ratio)\n",
    "    s = sparse.DOK(x)\n",
    "    ratio = s.nbytes/(s.dtype.itemsize*s.size)\n",
    "    ratios_dok.append(ratio)"
   ]
  },
  {
   "cell_type": "code",
   "execution_count": null,
   "id": "27728c8a-62b2-4ede-9e28-cf9fb40efd52",
   "metadata": {},
   "outputs": [],
   "source": [
    "plt.plot(densidad,ratios_coo)\n",
    "plt.plot(densidad,ratios_dok)\n",
    "plt.hlines(1.0, 0.0, 0.5, colors='gray', linestyles='dashed')"
   ]
  },
  {
   "cell_type": "code",
   "execution_count": null,
   "id": "d7e09669-77f9-44c7-b878-bec5f3097040",
   "metadata": {},
   "outputs": [],
   "source": []
  }
 ],
 "metadata": {
  "kernelspec": {
   "display_name": "Python 3",
   "language": "python",
   "name": "python3"
  },
  "language_info": {
   "codemirror_mode": {
    "name": "ipython",
    "version": 3
   },
   "file_extension": ".py",
   "mimetype": "text/x-python",
   "name": "python",
   "nbconvert_exporter": "python",
   "pygments_lexer": "ipython3",
   "version": "3.7.10"
  }
 },
 "nbformat": 4,
 "nbformat_minor": 5
}
